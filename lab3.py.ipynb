{
 "cells": [
  {
   "cell_type": "code",
   "execution_count": 2,
   "id": "initial_id",
   "metadata": {
    "collapsed": true,
    "ExecuteTime": {
     "end_time": "2024-03-13T01:03:26.500180700Z",
     "start_time": "2024-03-13T01:03:26.472119600Z"
    }
   },
   "outputs": [
    {
     "name": "stdout",
     "output_type": "stream",
     "text": [
      "Original DataFrames:\n",
      "  student_id              name marks\n",
      "0         S1  Danniella Fenton   200\n",
      "1         S2      Ryder Storey   210\n",
      "2         S3      Bryce Jensen   190\n",
      "3         S4         Ed Bernal   222\n",
      "4         S5       Kwame Morin   199\n",
      "////////////////////////////\n",
      "  student_id              name marks\n",
      "0         S4  Scarlette Fisher   201\n",
      "1         S5  Carla Williamson   200\n",
      "2         S6       Dante Morse   198\n",
      "3         S7    Kaiser William   219\n",
      "4         S8   Madeeha Preston   201\n",
      "Join Two Data Frames\n",
      "  student_id              name marks\n",
      "0         S1  Danniella Fenton   200\n",
      "1         S2      Ryder Storey   210\n",
      "2         S3      Bryce Jensen   190\n",
      "3         S4         Ed Bernal   222\n",
      "4         S5       Kwame Morin   199\n",
      "0         S4  Scarlette Fisher   201\n",
      "1         S5  Carla Williamson   200\n",
      "2         S6       Dante Morse   198\n",
      "3         S7    Kaiser William   219\n",
      "4         S8   Madeeha Preston   201\n"
     ]
    }
   ],
   "source": [
    "#1. Write a Pandas program to join the two given dataframes along rows and assign all data.\n",
    "\n",
    "import pandas as  pd\n",
    "student_data1 = pd.DataFrame({'student_id':['S1','S2','S3','S4','S5'],'name':['Danniella Fenton','Ryder Storey','Bryce Jensen','Ed Bernal','Kwame Morin'],'marks':['200','210','190','222','199']})\n",
    "\n",
    "student_data2 = pd.DataFrame({'student_id':['S4','S5','S6','S7','S8'],'name':['Scarlette Fisher','Carla Williamson','Dante Morse','Kaiser William','Madeeha Preston'],'marks':['201','200','198','219','201']})\n",
    "print('Original DataFrames:')\n",
    "print(student_data1)\n",
    "print('////////////////////////////')\n",
    "print(student_data2)\n",
    "print('Join Two Data Frames')\n",
    "result_DataFrames = pd.concat([student_data1,student_data2])\n",
    "print(result_DataFrames)\n"
   ]
  },
  {
   "cell_type": "code",
   "outputs": [
    {
     "name": "stdout",
     "output_type": "stream",
     "text": [
      "Original DataFrames:\n",
      "  student_id              name marks\n",
      "0         S1  Danniella Fenton   200\n",
      "1         S2      Ryder Storey   210\n",
      "2         S3      Bryce Jensen   190\n",
      "3         S4          Ed Berry   222\n",
      "4         S5       Kwame Morin   199\n",
      "////////////////////////////\n",
      "  student_id              name\n",
      "0         S4  Scarlette Fisher\n",
      "1         S5  Carla Williamson\n",
      "2         S6       Dante Morse\n",
      "3         S7   Kaiser Williams\n",
      "4         S8   Madeeha Preston\n",
      "Joing DataFrames along with columns\n",
      "  student_id              name marks\n",
      "0         S1  Danniella Fenton   200\n",
      "1         S2      Ryder Storey   210\n",
      "2         S3      Bryce Jensen   190\n",
      "3         S4          Ed Berry   222\n",
      "4         S5       Kwame Morin   199\n",
      "0         S4  Scarlette Fisher   NaN\n",
      "1         S5  Carla Williamson   NaN\n",
      "2         S6       Dante Morse   NaN\n",
      "3         S7   Kaiser Williams   NaN\n",
      "4         S8   Madeeha Preston   NaN\n"
     ]
    }
   ],
   "source": [
    "#2.Write a Pandas program to join the two given dataframes along columns and assign all data.\n",
    "import pandas as pd\n",
    "student_data1 = pd.DataFrame({'student_id':['S1','S2','S3','S4','S5'],'name':['Danniella Fenton','Ryder Storey','Bryce Jensen','Ed Berry','Kwame Morin'],'marks':['200','210','190','222','199']})\n",
    "student_data2 = pd.DataFrame({'student_id':['S4','S5','S6','S7','S8'],'name':['Scarlette Fisher','Carla Williamson','Dante Morse','Kaiser Williams','Madeeha Preston']})\n",
    "print('Original DataFrames:')\n",
    "print(student_data1)\n",
    "print('////////////////////////////')\n",
    "print(student_data2)\n",
    "print('Joing DataFrames along with columns')\n",
    "result_DataFrames = pd.concat([student_data1,student_data2])\n",
    "print(result_DataFrames)\n"
   ],
   "metadata": {
    "collapsed": false,
    "ExecuteTime": {
     "end_time": "2024-03-13T01:52:10.399046700Z",
     "start_time": "2024-03-13T01:52:10.390042600Z"
    }
   },
   "id": "b420ef4b39d3912e",
   "execution_count": 3
  },
  {
   "cell_type": "code",
   "outputs": [
    {
     "name": "stdout",
     "output_type": "stream",
     "text": [
      "Original DataFrames:\n",
      "  student_id              name marks\n",
      "0         S1  Danniella Fenton   200\n",
      "1         S2      Ryder Storey   210\n",
      "2         S3      Bryce Jensen   190\n",
      "3         S4          Ed Berry   222\n",
      "4         S5       Kwame Morin   199\n",
      "\n",
      "New Row(s)\n",
      "student_id                  S6\n",
      "name          Scarlette Fisher\n",
      "marks                      205\n",
      "dtype: object\n",
      "\n",
      "Combined Data:\n",
      "  student_id              name marks\n",
      "0         S1  Danniella Fenton   200\n",
      "1         S2      Ryder Storey   210\n",
      "2         S3      Bryce Jensen   190\n",
      "3         S4          Ed Berry   222\n",
      "4         S5       Kwame Morin   199\n",
      "5         S6  Scarlette Fisher   205\n"
     ]
    }
   ],
   "source": [
    "#3. Write a Pandas program to append rows to an existing DataFrame and display the combined data.\n",
    "import pandas as pd\n",
    "student_data1 = pd.DataFrame({'student_id':['S1','S2','S3','S4','S5'],'name':['Danniella Fenton','Ryder Storey','Bryce Jensen','Ed Berry','Kwame Morin'],'marks':['200','210','190','222','199']})\n",
    "s6 = pd.Series(['S6', 'Scarlette Fisher', 205], index =['student_id','name','marks'])\n",
    "print(\"Original DataFrames:\")\n",
    "print(student_data1)\n",
    "print(\"\\nNew Row(s)\")\n",
    "print(s6)\n",
    "combined_data = student_data1.append(s6, ignore_index = True)\n",
    "print(\"\\nCombined Data:\")\n",
    "print(combined_data)\n",
    "\n"
   ],
   "metadata": {
    "collapsed": false,
    "ExecuteTime": {
     "end_time": "2024-03-13T02:01:17.798909800Z",
     "start_time": "2024-03-13T02:01:17.769279800Z"
    }
   },
   "id": "d425afe3c287c6ff",
   "execution_count": 4
  },
  {
   "cell_type": "code",
   "outputs": [
    {
     "name": "stdout",
     "output_type": "stream",
     "text": [
      "Original DataFrames:\n",
      "  student_id              name marks\n",
      "0         S1  Danniella Fenton   200\n",
      "1         S2      Ryder Storey   210\n",
      "2         S3      Bryce Jensen   190\n",
      "3         S4          Ed Berry   222\n",
      "4         S5       Kwame Morin   199\n",
      "\n",
      "New Row(s)\n",
      "student_id                  S6\n",
      "name          Scarlette Fisher\n",
      "marks                      205\n",
      "dtype: object\n",
      "\n",
      "Combined Dictionary Data:\n",
      "  student_id              name marks\n",
      "0         S1  Danniella Fenton   200\n",
      "1         S2      Ryder Storey   210\n",
      "2         S3      Bryce Jensen   190\n",
      "3         S4          Ed Berry   222\n",
      "4         S5       Kwame Morin   199\n",
      "5         S6  Scarlette Fisher   205\n"
     ]
    }
   ],
   "source": [
    "#4.Write a Pandas program to append a list of dictioneries or series to a existing DataFrame and display the combined data.\n",
    "import pandas as pd\n",
    "student_data1 = pd.DataFrame({'student_id':['S1','S2','S3','S4','S5'],'name':['Danniella Fenton','Ryder Storey','Bryce Jensen','Ed Berry','Kwame Morin'],'marks':['200','210','190','222','199']})\n",
    "s6 = pd.Series(['S6', 'Scarlette Fisher', 205], index =['student_id','name','marks'])\n",
    "print(\"Original DataFrames:\")\n",
    "print(student_data1)\n",
    "print(\"\\nNew Row(s)\")\n",
    "print(s6)\n",
    "dictionary_data = student_data1.append(s6, ignore_index = True)\n",
    "print(\"\\nCombined Dictionary Data:\")\n",
    "print(dictionary_data)\n"
   ],
   "metadata": {
    "collapsed": false,
    "ExecuteTime": {
     "end_time": "2024-03-13T02:14:13.821556500Z",
     "start_time": "2024-03-13T02:14:13.770947200Z"
    }
   },
   "id": "748f8cf0ed6e1299",
   "execution_count": 5
  },
  {
   "cell_type": "code",
   "outputs": [
    {
     "name": "stdout",
     "output_type": "stream",
     "text": [
      "  student_id              name  marks\n",
      "0         S1  Danniella Fenton    200\n",
      "1         S2      Ryder Storey    210\n",
      "2         S3      Bryce Jensen    190\n",
      "3         S4         Ed Bernal    222\n",
      "4         S5       Kwame Morin    199\n",
      "5         S4  Scarlette Fisher    201\n",
      "6         S5  Carla Williamson    200\n",
      "7         S6       Dante Morse    198\n",
      "8         S7    Kaiser William    219\n",
      "9         S8   Madeeha Preston    201\n",
      "...........................................................\n",
      "  student_id              name  marks  exam_id\n",
      "0         S1  Danniella Fenton    200       23\n",
      "1         S2      Ryder Storey    210       45\n",
      "2         S3      Bryce Jensen    190       12\n",
      "3         S4         Ed Bernal    222       67\n",
      "4         S4  Scarlette Fisher    201       67\n",
      "5         S5       Kwame Morin    199       21\n",
      "6         S5  Carla Williamson    200       21\n",
      "7         S7    Kaiser William    219       55\n",
      "8         S8   Madeeha Preston    201       33\n"
     ]
    }
   ],
   "source": [
    "#5.Write a Pandas program to join the two given dataframes along rows and merge with another dataframe along the common column id.\n",
    "import pandas as pd\n",
    "student_data1 = pd.DataFrame({\n",
    "    'student_id': ['S1', 'S2', 'S3', 'S4', 'S5'],\n",
    "    'name': ['Danniella Fenton', 'Ryder Storey', 'Bryce Jensen', 'Ed Bernal', 'Kwame Morin'],\n",
    "    'marks': [200, 210, 190, 222, 199]})\n",
    "student_data2 = pd.DataFrame({\n",
    "    'student_id': ['S4', 'S5', 'S6', 'S7', 'S8'],\n",
    "    'name': ['Scarlette Fisher', 'Carla Williamson', 'Dante Morse', 'Kaiser William', 'Madeeha Preston'],\n",
    "    'marks': [201, 200, 198, 219, 201]\n",
    "})\n",
    "exam_data = pd.DataFrame({\n",
    "    'student_id': ['S1', 'S2', 'S3', 'S4', 'S5', 'S7', 'S8', 'S9', 'S10', 'S11', 'S12', 'S13'],\n",
    "    'exam_id': [23, 45, 12, 67, 21, 55, 33, 14, 56, 83, 88, 12]\n",
    "})\n",
    "# Joining student_data1 and student_data2 along rows\n",
    "combined_students = pd.concat([student_data1, student_data2], ignore_index=True)\n",
    "print(combined_students)\n",
    "print('...........................................................')\n",
    "# Merging combined_students with exam_data along 'student_id'\n",
    "merged_data = pd.merge(combined_students, exam_data, on='student_id', how='inner')\n",
    "print(merged_data)"
   ],
   "metadata": {
    "collapsed": false,
    "ExecuteTime": {
     "end_time": "2024-03-13T02:24:16.448082400Z",
     "start_time": "2024-03-13T02:24:16.431962900Z"
    }
   },
   "id": "78fb2b35b587c1cc",
   "execution_count": 7
  },
  {
   "cell_type": "code",
   "outputs": [
    {
     "name": "stdout",
     "output_type": "stream",
     "text": [
      "Original DataFrames:\n",
      "  student_id              name  marks\n",
      "0         S1  Danniella Fenton    200\n",
      "1         S2      Ryder Storey    210\n",
      "2         S3      Bryce Jensen    190\n",
      "3         S4         Ed Bernal    222\n",
      "4         S5       Kwame Morin    199\n",
      "...............................................\n",
      "  student_id              name  marks\n",
      "0         S4  Scarlette Fisher    201\n",
      "1         S5  Carla Williamson    200\n",
      "2         S6       Dante Morse    198\n",
      "3         S7    Kaiser William    219\n",
      "4         S8   Madeeha Preston    201\n",
      "////////////////////////////////////////\n",
      "Merged data (inner join):\n",
      "  student_id       name_x  marks_x            name_y  marks_y\n",
      "0         S4    Ed Bernal      222  Scarlette Fisher      201\n",
      "1         S5  Kwame Morin      199  Carla Williamson      200\n"
     ]
    }
   ],
   "source": [
    "#6.Write a Pandas program to join the two dataframes using the common column of both dataframes.\n",
    "student_data1 = pd.DataFrame({\n",
    "    'student_id': ['S1', 'S2', 'S3', 'S4', 'S5'],\n",
    "    'name': ['Danniella Fenton', 'Ryder Storey', 'Bryce Jensen', 'Ed Bernal', 'Kwame Morin'],\n",
    "    'marks': [200, 210, 190, 222, 199]})\n",
    "\n",
    "student_data2 = pd.DataFrame({\n",
    "    'student_id': ['S4', 'S5', 'S6', 'S7', 'S8'],\n",
    "    'name': ['Scarlette Fisher', 'Carla Williamson', 'Dante Morse', 'Kaiser William', 'Madeeha Preston'],\n",
    "    'marks': [201, 200, 198, 219, 201]\n",
    "})\n",
    "\n",
    "print(\"Original DataFrames:\")\n",
    "print(student_data1)\n",
    "print(\"...............................................\")\n",
    "print(student_data2)\n",
    "print('////////////////////////////////////////')\n",
    "merged_data = pd.merge(student_data1, student_data2, on='student_id', how='inner')\n",
    "print(\"Merged data (inner join):\")\n",
    "print(merged_data)\n"
   ],
   "metadata": {
    "collapsed": false,
    "ExecuteTime": {
     "end_time": "2024-03-13T02:50:27.093071100Z",
     "start_time": "2024-03-13T02:50:27.064071Z"
    }
   },
   "id": "c372ab193ae80b25",
   "execution_count": 8
  },
  {
   "cell_type": "code",
   "outputs": [
    {
     "name": "stdout",
     "output_type": "stream",
     "text": [
      "  student_id        name_data1  marks_data1        name_data2  marks_data2\n",
      "0         S1  Danniella Fenton        200.0               NaN          NaN\n",
      "1         S2      Ryder Storey        210.0               NaN          NaN\n",
      "2         S3      Bryce Jensen        190.0               NaN          NaN\n",
      "3         S4         Ed Bernal        222.0  Scarlette Fisher        201.0\n",
      "4         S5       Kwame Morin        199.0  Carla Williamson        200.0\n",
      "5         S6               NaN          NaN       Dante Morse        198.0\n",
      "6         S7               NaN          NaN    Kaiser William        219.0\n",
      "7         S8               NaN          NaN   Madeeha Preston        201.0\n"
     ]
    }
   ],
   "source": [
    "#7.Write a Pandas program to join the two dataframes with matching records from both sides where available.\n",
    "student_data1 = pd.DataFrame({\n",
    "    'student_id': ['S1', 'S2', 'S3', 'S4', 'S5'],\n",
    "    'name': ['Danniella Fenton', 'Ryder Storey', 'Bryce Jensen', 'Ed Bernal', 'Kwame Morin'],\n",
    "    'marks': [200, 210, 190, 222, 199]})\n",
    "\n",
    "student_data2 = pd.DataFrame({\n",
    "    'student_id': ['S4', 'S5', 'S6', 'S7', 'S8'],\n",
    "    'name': ['Scarlette Fisher', 'Carla Williamson', 'Dante Morse', 'Kaiser William', 'Madeeha Preston'],\n",
    "    'marks': [201, 200, 198, 219, 201]\n",
    "})\n",
    "# Merging with matching records from both sides where available\n",
    "merged_data = pd.merge(student_data1, student_data2, on='student_id', how='outer', suffixes=('_data1', '_data2'))\n",
    "print(merged_data)\n"
   ],
   "metadata": {
    "collapsed": false,
    "ExecuteTime": {
     "end_time": "2024-03-13T04:08:55.254293Z",
     "start_time": "2024-03-13T04:08:55.228690700Z"
    }
   },
   "id": "69b04151b5386c0f",
   "execution_count": 9
  },
  {
   "cell_type": "code",
   "outputs": [
    {
     "name": "stdout",
     "output_type": "stream",
     "text": [
      "  key1 key2   P   Q    R    S\n",
      "0   K0   K0  P0  Q0   R0   S0\n",
      "1   K0   K1  P1  Q1  NaN  NaN\n",
      "2   K1   K0  P2  Q2   R1   S1\n",
      "3   K1   K0  P2  Q2   R2   S2\n",
      "4   K2   K1  P3  Q3  NaN  NaN\n"
     ]
    }
   ],
   "source": [
    "#8.Write a Pandas program to join (left join) the two dataframes using keys from left dataframe only.\n",
    "import pandas as pd\n",
    "data1 = pd.DataFrame({\n",
    "    'key1': ['K0', 'K0', 'K1', 'K2'],\n",
    "    'key2': ['K0', 'K1', 'K0', 'K1'],\n",
    "    'P': ['P0', 'P1', 'P2', 'P3'],\n",
    "    'Q': ['Q0', 'Q1', 'Q2', 'Q3']\n",
    "})\n",
    "data2 = pd.DataFrame({\n",
    "    'key1': ['K0', 'K1', 'K1', 'K2'],\n",
    "    'key2': ['K0', 'K0', 'K0', 'K0'],\n",
    "    'R': ['R0', 'R1', 'R2', 'R3'],\n",
    "    'S': ['S0', 'S1', 'S2', 'S3']\n",
    "})\n",
    "# Performing a left join\n",
    "result = pd.merge(data1, data2, on=['key1', 'key2'], how='left')\n",
    "print(result)"
   ],
   "metadata": {
    "collapsed": false,
    "ExecuteTime": {
     "end_time": "2024-03-13T04:12:13.846935300Z",
     "start_time": "2024-03-13T04:12:13.816372500Z"
    }
   },
   "id": "a29c18f0f5e4adc7",
   "execution_count": 10
  },
  {
   "cell_type": "code",
   "outputs": [
    {
     "name": "stdout",
     "output_type": "stream",
     "text": [
      "  key1 key2    P    Q   R   S\n",
      "0   K0   K0   P0   Q0  R0  S0\n",
      "1   K1   K0   P2   Q2  R1  S1\n",
      "2   K1   K0   P2   Q2  R2  S2\n",
      "3   K2   K0  NaN  NaN  R3  S3\n"
     ]
    }
   ],
   "source": [
    "#9.Write a Pandas program to join two dataframes using keys from right dataframe only.\n",
    "import pandas as pd\n",
    "data1 = pd.DataFrame({\n",
    "    'key1': ['K0', 'K0', 'K1', 'K2'],\n",
    "    'key2': ['K0', 'K1', 'K0', 'K1'],\n",
    "    'P': ['P0', 'P1', 'P2', 'P3'],\n",
    "    'Q': ['Q0', 'Q1', 'Q2', 'Q3']\n",
    "})\n",
    "data2 = pd.DataFrame({\n",
    "    'key1': ['K0', 'K1', 'K1', 'K2'],\n",
    "    'key2': ['K0', 'K0', 'K0', 'K0'],\n",
    "    'R': ['R0', 'R1', 'R2', 'R3'],\n",
    "    'S': ['S0', 'S1', 'S2', 'S3']\n",
    "})\n",
    "# Performing a right join\n",
    "result = pd.merge(data1, data2, on=['key1', 'key2'], how='right')\n",
    "print(result)"
   ],
   "metadata": {
    "collapsed": false,
    "ExecuteTime": {
     "end_time": "2024-03-13T04:23:08.217261500Z",
     "start_time": "2024-03-13T04:23:08.194260400Z"
    }
   },
   "id": "11eb12b1ea711f39",
   "execution_count": 13
  },
  {
   "cell_type": "code",
   "outputs": [
    {
     "name": "stdout",
     "output_type": "stream",
     "text": [
      "  key1 key2   P   Q   R   S\n",
      "0   K0   K0  P0  Q0  R0  S0\n",
      "1   K1   K0  P2  Q2  R1  S1\n",
      "2   K1   K0  P2  Q2  R2  S2\n"
     ]
    }
   ],
   "source": [
    "#10.Write a Pandas program to merge two given datasets using multiple join keys.\n",
    "import pandas as pd\n",
    "data1 = pd.DataFrame({\n",
    "    'key1': ['K0', 'K0', 'K1', 'K2'],\n",
    "    'key2': ['K0', 'K1', 'K0', 'K1'],\n",
    "    'P': ['P0', 'P1', 'P2', 'P3'],\n",
    "    'Q': ['Q0', 'Q1', 'Q2', 'Q3']\n",
    "})\n",
    "data2 = pd.DataFrame({\n",
    "    'key1': ['K0', 'K1', 'K1', 'K2'],\n",
    "    'key2': ['K0', 'K0', 'K0', 'K0'],\n",
    "    'R': ['R0', 'R1', 'R2', 'R3'],\n",
    "    'S': ['S0', 'S1', 'S2', 'S3']\n",
    "})\n",
    "result = pd.merge(data1, data2, on=['key1', 'key2'])\n",
    "print(result)"
   ],
   "metadata": {
    "collapsed": false,
    "ExecuteTime": {
     "end_time": "2024-03-13T04:27:25.232438100Z",
     "start_time": "2024-03-13T04:27:25.202439500Z"
    }
   },
   "id": "2a760d959f248f73",
   "execution_count": 14
  },
  {
   "cell_type": "code",
   "outputs": [
    {
     "name": "stdout",
     "output_type": "stream",
     "text": [
      "Original DataFrame:\n",
      "  key1 key2   P   Q\n",
      "0   K0   K0  P0  Q0\n",
      "1   K0   K1  P1  Q1\n",
      "2   K1   K0  P2  Q2\n",
      "3   K2   K1  P3  Q3\n",
      "...............................\n",
      "  Column1 Column2 Column3 Column4\n",
      "0      K0      K0      P0      Q0\n",
      "1      K0      K1      P1      Q1\n",
      "2      K1      K0      P2      Q2\n",
      "3      K2      K1      P3      Q3\n"
     ]
    }
   ],
   "source": [
    "#11.Write a Pandas program to create a new DataFrame based on existing series, using specified argument and override the existing columns names.\n",
    "import pandas as pd\n",
    "data1 = pd.DataFrame({\n",
    "    'key1': ['K0', 'K0', 'K1', 'K2'],\n",
    "    'key2': ['K0', 'K1', 'K0', 'K1'],\n",
    "    'P': ['P0', 'P1', 'P2', 'P3'],\n",
    "    'Q': ['Q0', 'Q1', 'Q2', 'Q3']})\n",
    "print('Original DataFrame:')\n",
    "print(data1)\n",
    "print('...............................')\n",
    "# Selecting the 'P' and 'Q' series and creating a new DataFrame\n",
    "new_data = pd.DataFrame({\n",
    "    'Column1': data1['key1'],\n",
    "    'Column2': data1['key2'],'Column3': data1['P'], 'Column4': data1['Q']})\n",
    "print(new_data)\n"
   ],
   "metadata": {
    "collapsed": false,
    "ExecuteTime": {
     "end_time": "2024-03-13T04:43:03.974504400Z",
     "start_time": "2024-03-13T04:43:03.950501100Z"
    }
   },
   "id": "4f636f9ccdb79938",
   "execution_count": 20
  },
  {
   "cell_type": "code",
   "outputs": [
    {
     "name": "stdout",
     "output_type": "stream",
     "text": [
      "Original DataFrame:\n",
      "  key1 key2   P   Q\n",
      "0   K0   K0  P0  Q0\n",
      "1   K0   K1  P1  Q1\n",
      "2   K1   K0  P2  Q2\n",
      "3   K2   K1  P3  Q3\n",
      ".........................................\n",
      "  key1 key2   R   S\n",
      "0   K0   K0  R0  S0\n",
      "1   K1   K0  R1  S1\n",
      "2   K1   K0  R2  S2\n",
      "3   K2   K0  R3  S3\n",
      "...........................................\n",
      "Empty DataFrame\n",
      "Columns: [key1, key2, P, Q, R, S, counts1, counts2]\n",
      "Index: []\n"
     ]
    }
   ],
   "source": [
    "#12. Write a Pandas program to create a combination from two dataframes where a column id combination appears more than once in both dataframes.\n",
    "import pandas as pd\n",
    "data1 = pd.DataFrame({'key1': ['K0', 'K0', 'K1', 'K2'],'key2': ['K0', 'K1', 'K0', 'K1'],'P' : ['P0','P1','P2','P3'],'Q' : ['Q0','Q1','Q2','Q3']})\n",
    "\n",
    "data2 = pd.DataFrame({'key1': ['K0', 'K1', 'K1','K2'],'key2': ['K0', 'K0', 'K0', 'K0'],'R' : ['R0','R1','R2','R3'],'S' : ['S0','S1','S2','S3']})\n",
    "\n",
    "print('Original DataFrame:')\n",
    "print(data1)\n",
    "print('.........................................')\n",
    "print(data2)\n",
    "print('...........................................')\n",
    "#merge the data frames\n",
    "new_merge=pd.merge(data1, data2, on=['key1', 'key2'], how='inner')\n",
    "\n",
    "#Count occurences in each DataFrames\n",
    "counts1 = data1.groupby(['key1','key2']).size().reset_index(name='counts1')\n",
    "counts2 = data2.groupby(['key1','key2']).size().reset_index(name='counts2')\n",
    "\n",
    "#Merge counts back to the merged DataFrame\n",
    "merge_with_counts = pd.merge(new_merge, counts1, on=['key1', 'key2'], how='left')\n",
    "merge_with_counts = pd.merge(merge_with_counts, counts2, on=['key1', 'key2'], how='left')\n",
    "\n",
    "#Filter rows where the id combination apppear more than once in both DataFrames\n",
    "result = merge_with_counts[(merge_with_counts['counts1'] > 1) & (merge_with_counts['counts2'] > 1)]\n",
    "print(result)"
   ],
   "metadata": {
    "collapsed": false,
    "ExecuteTime": {
     "end_time": "2024-03-13T14:52:14.972953700Z",
     "start_time": "2024-03-13T14:52:14.942592Z"
    }
   },
   "id": "d983ca29dff1d909",
   "execution_count": 21
  },
  {
   "cell_type": "code",
   "outputs": [
    {
     "name": "stdout",
     "output_type": "stream",
     "text": [
      "Original Data:\n",
      "     A   B\n",
      "K0  A0  B0\n",
      "K1  A1  B1\n",
      "K2  A2  B2\n",
      "..................\n",
      "     C   D\n",
      "K0  C0  D0\n",
      "K2  C2  D2\n",
      "K3  C3  D3\n",
      ".............................\n",
      "Merged DataFrame:\n",
      "      A    B    C    D\n",
      "K0   A0   B0   C0   D0\n",
      "K1   A1   B1  NaN  NaN\n",
      "K2   A2   B2   C2   D2\n",
      "K3  NaN  NaN   C3   D3\n"
     ]
    }
   ],
   "source": [
    "#13. Write a Pandas program to merge two given dataframes with different columns.\n",
    "import pandas as pd\n",
    "# Test Data\n",
    "data1 = pd.DataFrame({\n",
    "    'A': ['A0', 'A1', 'A2'],\n",
    "    'B': ['B0', 'B1', 'B2']\n",
    "}, index=['K0', 'K1', 'K2'])\n",
    "\n",
    "data2 = pd.DataFrame({\n",
    "    'C': ['C0', 'C2', 'C3'],\n",
    "    'D': ['D0', 'D2', 'D3']\n",
    "}, index=['K0', 'K2', 'K3'])\n",
    "print('Original Data:')\n",
    "print(data1)\n",
    "print('..................')\n",
    "print(data2)\n",
    "print('.............................')\n",
    "# Combining columns from both DataFrames\n",
    "print('Merged DataFrame:')\n",
    "result = pd.concat([data1, data2], axis=1, sort=False)\n",
    "print(result)"
   ],
   "metadata": {
    "collapsed": false,
    "ExecuteTime": {
     "end_time": "2024-03-13T15:11:43.980486700Z",
     "start_time": "2024-03-13T15:11:43.958483800Z"
    }
   },
   "id": "372d4fcfe16826a0",
   "execution_count": 24
  },
  {
   "cell_type": "code",
   "outputs": [
    {
     "name": "stdout",
     "output_type": "stream",
     "text": [
      "Original Data:\n",
      "  key1 key2   P   Q\n",
      "0   K0   K0  P0  Q0\n",
      "1   K0   K1  P1  Q1\n",
      "2   K1   K0  P2  Q2\n",
      "3   K2   K1  P3  Q3\n",
      ".........................................\n",
      "  key1 key2   R   S\n",
      "0   K0   K0  R0  S0\n",
      "1   K1   K0  R1  S1\n",
      "2   K1   K0  R2  S2\n",
      "3   K2   K0  R3  S3\n",
      "...........................................\n",
      "  key1 key2   P   Q   R   S\n",
      "0   K0   K0  P0  Q0  R0  S0\n",
      "1   K1   K0  P2  Q2  R1  S1\n",
      "2   K1   K0  P2  Q2  R2  S2\n"
     ]
    }
   ],
   "source": [
    "#14.Write a Pandas program to merge two given dataframes with different columns.\n",
    "import pandas as pd\n",
    "\n",
    "# Test Data\n",
    "data1 = pd.DataFrame({\n",
    "    'key1': ['K0', 'K0', 'K1', 'K2'],\n",
    "    'key2': ['K0', 'K1', 'K0', 'K1'],\n",
    "    'P': ['P0', 'P1', 'P2', 'P3'],\n",
    "    'Q': ['Q0', 'Q1', 'Q2', 'Q3']\n",
    "})\n",
    "\n",
    "data2 = pd.DataFrame({\n",
    "    'key1': ['K0', 'K1', 'K1', 'K2'],\n",
    "    'key2': ['K0', 'K0', 'K0', 'K0'],\n",
    "    'R': ['R0', 'R1', 'R2', 'R3'],\n",
    "    'S': ['S0', 'S1', 'S2', 'S3']\n",
    "})\n",
    "print('Original Data:')\n",
    "print(data1)\n",
    "print('.........................................')\n",
    "print(data2)\n",
    "print('...........................................')\n",
    "# Merging the DataFrames\n",
    "merged_df = pd.merge(data1, data2, on=['key1', 'key2'])\n",
    "print(merged_df)\n"
   ],
   "metadata": {
    "collapsed": false,
    "ExecuteTime": {
     "end_time": "2024-03-13T15:14:57.669350100Z",
     "start_time": "2024-03-13T15:14:57.647313200Z"
    }
   },
   "id": "1bf8a06d8d5b745e",
   "execution_count": 26
  },
  {
   "cell_type": "code",
   "outputs": [
    {
     "name": "stdout",
     "output_type": "stream",
     "text": [
      "Original Data:\n",
      "     A  B\n",
      "0  NaN  3\n",
      "1  0.0  4\n",
      "2  NaN  5\n",
      ".......................................\n",
      "   A    B\n",
      "0  1  3.0\n",
      "1  1  NaN\n",
      "2  3  3.0\n",
      "..............................................\n",
      "     A  B\n",
      "0  1.0  3\n",
      "1  0.0  4\n",
      "2  3.0  5\n"
     ]
    }
   ],
   "source": [
    "#15.Write a Pandas program to Combine two DataFrame objects by filling null values in one DataFrame with non-null values from other DataFrame.\n",
    "import pandas as pd\n",
    "\n",
    "# Original DataFrames\n",
    "df1 = pd.DataFrame({\n",
    "    'A': [None, 0.0, None],\n",
    "    'B': [3, 4, 5]\n",
    "})\n",
    "\n",
    "df2 = pd.DataFrame({\n",
    "    'A': [1, 1, 3],\n",
    "    'B': [3.0, None, 3.0]\n",
    "})\n",
    "\n",
    "print('Original Data:')\n",
    "print(df1)\n",
    "print('.......................................')\n",
    "print(df2)\n",
    "print('..............................................')\n",
    "#combine data frames\n",
    "merged_df = df1.combine_first(df2)\n",
    "print(merged_df)"
   ],
   "metadata": {
    "collapsed": false,
    "ExecuteTime": {
     "end_time": "2024-03-13T15:22:21.041123900Z",
     "start_time": "2024-03-13T15:22:21.025149700Z"
    }
   },
   "id": "6a0902cd2e011ebd",
   "execution_count": 27
  },
  {
   "cell_type": "code",
   "outputs": [],
   "source": [],
   "metadata": {
    "collapsed": false
   },
   "id": "fc2775e599d617ee"
  }
 ],
 "metadata": {
  "kernelspec": {
   "display_name": "Python 3",
   "language": "python",
   "name": "python3"
  },
  "language_info": {
   "codemirror_mode": {
    "name": "ipython",
    "version": 2
   },
   "file_extension": ".py",
   "mimetype": "text/x-python",
   "name": "python",
   "nbconvert_exporter": "python",
   "pygments_lexer": "ipython2",
   "version": "2.7.6"
  }
 },
 "nbformat": 4,
 "nbformat_minor": 5
}
